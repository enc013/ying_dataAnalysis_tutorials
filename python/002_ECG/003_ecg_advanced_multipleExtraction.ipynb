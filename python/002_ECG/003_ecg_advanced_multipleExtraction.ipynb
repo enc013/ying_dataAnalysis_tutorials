{
 "cells": [
  {
   "cell_type": "code",
   "execution_count": null,
   "id": "61cb7537-e643-4c33-89a7-eb10ba436e2f",
   "metadata": {},
   "outputs": [],
   "source": [
    "%matplotlib widget\n",
    "\n",
    "import copy\n",
    "import heartpy as hp\n",
    "import matplotlib\n",
    "import matplotlib.pyplot as plt\n",
    "from matplotlib.patches import Ellipse\n",
    "import neurokit2 as nk\n",
    "import numpy as np\n",
    "import os\n",
    "import pandas as pd\n",
    "import pyxdf\n",
    "import systole\n",
    "\n",
    "plt.style.use('ggplot')"
   ]
  },
  {
   "cell_type": "markdown",
   "id": "1c7c06f1-6f86-4feb-b1a4-fe5d41cfe1a7",
   "metadata": {},
   "source": [
    "# 1 Helper Functions"
   ]
  },
  {
   "cell_type": "code",
   "execution_count": null,
   "id": "986b111b-b759-4229-bfee-088b412b6f80",
   "metadata": {},
   "outputs": [],
   "source": [
    "#Copy/paste the Helper function you modified in the 002_ecg_advanced_sectionExtraction Notebook\n",
    "# Make sure you have the preprocessing functions and peak detection incorporated in this function\n",
    "# Let me know if you haven't done so, and we can go over on how to do it."
   ]
  },
  {
   "cell_type": "markdown",
   "id": "f6b20c15-0ddb-4552-a7d7-cf3f59b1f7e8",
   "metadata": {
    "tags": []
   },
   "source": [
    "# 2 Objectives\n",
    "\n",
    "In this Jupyter Notebook, you will preprocess and analyze multiple VRCCT datasets. Please see the 002_ecg_advanced_sectionExtraction Notebook for more information on the VRCCT experimental paradigm. You will also need to use its Helper Function __load_ecg__ as you will extract/preprocess the same sections from the datasets, but now we will have more than one subject to analyze. Given that, you need to finish the interactive exercises in that Jupyter Notebook.\n",
    "\n",
    "There are multiple objectives you need to complete, and they are outlined below:\n",
    "1. Extract/Preprocess __prebaseline and postbaseline (for both prestudy and poststudy)__ ECG with the load_ecg helper function and for loops.\n",
    "    - Save these dataframe outputs as CSVs in the csv folder in the data directory. Save them with a file name like __vrcct_p16_prestudy_prebaseline.csv__ or __vrcct_p16_poststudy_postbaseline.csv__; use the file_format variable. \n",
    "2. Extract/Preprocess __prestudy meditation ball__ data (in the same way you extracted it in 002_ecg_advanced_SectionExtraction) with the load_ecg helper function and for loops. \n",
    "    - Save these dataframe ouputs as CSVs in the csv folder in the data directory. Save them with a file name like __vrcct_p16_prestudy_ball.csv__; use the file_format variable. \n",
    "3. Extract/Preprocess __poststudy meditation ball__ data (in the same way you extracted it in 002_ecg_advanced_SectionExtraction) with the load_ecg helper function and for loops. \n",
    "    - Save these dataframe ouputs as CSVs in the csv folder in the data directory. Save them with a file name like __vrcct_p16_poststudy_ball.csv__; use the file_format variable. \n",
    "4. Extract/Preprocess __poststudy compassion tree__ data (in the same way you extracted it in 002_ecg_advanced_SectionExtraction) with the load_ecg helper function and for loops. __Remember that you need to load in the PostStudy_TreeEvents spreadsheet as each subject spent different times in this experimental section!__\n",
    "    - Save these dataframe ouputs as CSVs in the csv folder in the data directory. Save them with a file name like __vrcct_p16_poststudy_tree.csv__; use the file_format variable. \n",
    "    \n",
    "Each objective gets increasingly difficult, so don't hesitate to reach out. Don't spend an exorbitant amount of time to complete these as you probably have more important things to do like class work/study. "
   ]
  },
  {
   "cell_type": "markdown",
   "id": "2fbe3e8b-0919-4a63-aa6d-600121fec838",
   "metadata": {},
   "source": [
    "## 2.1 Defining Necessary Variables\n",
    "\n",
    "In the following code block, we provide variables for you to use to complete the objectives. __Note how we extracted subject identifers (subjects)__. Please let me know if you don't understand that. "
   ]
  },
  {
   "cell_type": "code",
   "execution_count": null,
   "id": "e742b182-edc0-4436-93fd-506ff9dc8d3a",
   "metadata": {},
   "outputs": [],
   "source": [
    "#Directory where data is located (change this to where you will store your data)\n",
    "dir_data = 'data'\n",
    "\n",
    "#Directory where xdf is stored: \n",
    "dir_xdf = os.path.join(dir_data,'xdf')\n",
    "\n",
    "#XDF file names\n",
    "file_format = 'vrcct_%s_%s_%s.%s'\n",
    "\n",
    "#Subject Identifiers: \n",
    "subjects = list(set([\n",
    "    s.split('_')[1] for s in os.listdir(dir_xdf)\n",
    "    if (os.path.splitext(s)[-1]=='.xdf')\n",
    "]))\n",
    "\n",
    "#Study Identifier: \n",
    "studies = ['prestudy','poststudy']\n",
    "\n",
    "#Experiment Part: \n",
    "parts = ['prebaseline','postbaseline','condition']"
   ]
  },
  {
   "cell_type": "markdown",
   "id": "1d58625e-8c8b-40a3-a9f3-65e402fa3f7f",
   "metadata": {},
   "source": [
    "# 3 OBJECTIVE 1: INTERACTIVE EXERCISE\n",
    "\n",
    "We will extract all prebaseline/postbaseline ECG data from prestudy and poststudy datasets. This should be fairly simple as you simply need to use your modified load_ecg function. The question now is how to handle multiple datasets using a single code block. We do this by iterating over the subjects,studies, and parts variables. Then we can save them as CSV files. \n",
    "\n",
    "I will write the for loop for you, and you can figure out where to load/process/save your extracted ECG data. Think about where (inner or outer for loop) you want to do the following: \n",
    "\n",
    "1. Use your load_ecg function to load/extract/process your ECG. These prebaseline and postbaseline datasets do not have event markers, so you don't have to use the event_markers argument. \n",
    "2. Save this dataset as a CSV file in a folder called csv in your data folder. If you need guidance, please refer to __section 4 in the 002_ecg_advanced_sectionExtraction Notebook__. Save these CSVs with the following naming convention: __vrcct_p16_prestudy_baseline.csv__ or __vrcct_p16_poststudy_postbaseline.csv__. You can use the file_format variable to accomplish this. "
   ]
  },
  {
   "cell_type": "code",
   "execution_count": null,
   "id": "aad7116b-15ef-40ca-bb61-5e44b880e37d",
   "metadata": {},
   "outputs": [],
   "source": [
    "#We have a nested for loop here. We iterate through subjects,studies,and then iterate through parts\n",
    "for sub in subjects: \n",
    "    for study in studies: \n",
    "        for part in parts[:2]: #we only loop through pre and post baseline only\n",
    "            \n",
    "            #this is just a place holder to run the for-loop without any errors\n",
    "            #you can delete once you filled it out\n",
    "            None \n",
    "            "
   ]
  },
  {
   "cell_type": "markdown",
   "id": "ae72993a-b6cd-42a1-9a96-d6ac693dff84",
   "metadata": {},
   "source": [
    "# 4 __OBJECTIVE 2__: INTERACTIVE EXERCISE\n",
    "\n",
    "We will extract the meditation ball ECG data from __prestudy__ datasets. This is similar to __Section 3.2__ in the __2_ecg_advanced_sectionExtraction Notebook__. You can even use the same event_dict variable from there. However, do note that you need to change the duration to 530 seconds. After loading/extracting/processing this section, you can save it as a CSV file. \n",
    "\n",
    "Let's think about this.\n",
    "\n",
    "__Do we need to iterate over subjects?__ Yes. __Why?__ Because we are processing multiple subject datasets. \n",
    "\n",
    "__Do we need to iterate over studies?__ No. __Why?__ We are only processing the __prestudy meditation ball section__. \n",
    "\n",
    "__Do we need to iterate over parts?__ No. __Why?__ The meditation part is in the condition datasets where the experiment actually begins. \n",
    "\n",
    "__Finally, do we need a nested for loop?__ Please modify the for loop in the following code block. Afterwards, perform the following: \n",
    "\n",
    "1. Use your load_ecg function to load/extract/process your ECG. Remember that this part does have an event marker. Use the event_dict in __Section 3.2 in the __2_ecg_advanced_sectionExtraction Notebook__ and change the duration value to 530.\n",
    "\n",
    "2. Save this dataset as a CSV file in a folder called csv in your data folder. If you need guidance, please refer to __section 4 in the 002_ecg_advanced_sectionExtraction Notebook__. Save these CSVs with the following naming convention: __vrcct_p16_prestudy_ball.csv__. You can use the file_format variable to accomplish this. "
   ]
  },
  {
   "cell_type": "code",
   "execution_count": null,
   "id": "523cfbc2-4d2a-4155-b71a-a136e052c62f",
   "metadata": {},
   "outputs": [],
   "source": [
    "# A tip to answer the for loop question: \n",
    "study = studies[0] #prestudy\n",
    "part = parts[-1] #condition\n",
    "\n",
    "#Do we need a nested for loop?\n",
    "for sub in subjects: \n",
    "    for study in studies: \n",
    "        for part in parts[:2]: \n",
    "            None"
   ]
  },
  {
   "cell_type": "markdown",
   "id": "ba10a417-89ad-4829-b621-31990f2af8a2",
   "metadata": {},
   "source": [
    "# 5 __OBJECTIVE 3__: INTERACTIVE EXERCISE\n",
    "\n",
    "We will extract the meditation ball ECG data from __poststudy__ datasets. This is similar to __Section 3.2 in the __2_ecg_advanced_sectionExtraction Notebook__. You can even use the same event_dict variable from there (no need to modify it). After loading/extracting/processing this section, you can save it as a CSV file. In fact, it is similar to the last section in this very Notebook and all you need to do is copy/paste and change some variables.\n",
    "\n",
    "__Do we need a nested for loop?__ Please modify the for loop in the following code block. Afterwards, perform the following: \n",
    "\n",
    "1. Use your load_ecg function to load/extract/process your ECG. Remember that this part does have an event marker. Use the event_dict in __Section 3.2__ in the __2_ecg_advanced_sectionExtraction Notebook__.\n",
    "\n",
    "2. Save this dataset as a CSV file in a folder called csv in your data folder. If you need guidance, please refer to __section 4 in the 002_ecg_advanced_sectionExtraction Notebook__. Save these CSVs with the following naming convention: __vrcct_p16_poststudy_ball.csv__. You can use the file_format variable to accomplish this. "
   ]
  },
  {
   "cell_type": "code",
   "execution_count": null,
   "id": "7560b894-bc8c-41b7-b2e6-e56c79f94472",
   "metadata": {},
   "outputs": [],
   "source": [
    "# A tip to answer the for loop question: \n",
    "study = studies[1] #poststudy\n",
    "part = parts[-1] #condition\n",
    "\n",
    "#Do we need a nested for loop?\n",
    "for sub in subjects: \n",
    "    for study in studies: \n",
    "        for part in parts[:2]:\n",
    "            None"
   ]
  },
  {
   "cell_type": "markdown",
   "id": "41c669f9-bcdd-411a-8cb8-c1c48bad5fb2",
   "metadata": {},
   "source": [
    "# 6 __OBJECTIVE 4__: INTERACTIVE EXERCISE\n",
    "\n",
    "This is where things get a little spicy! We will extract the __compassion tree__ ECG data from __poststudy__ datasets. This is similar to __Section 3.3__ in the __2_ecg_advanced_sectionExtraction Notebook__. Each subject spent variable time interacting with the compassion tree, and these times are recorded in the spreadsheet called PostStudy_TreeEvents located in the data directory. Therefore, we got to load in this spreadsheet as a Pandas DataFrame that we can access with attributes iloc or loc. We also need to modify the event_dict by changing the start_event and duration. \n",
    "\n",
    "__Again, do we need a nested for loop?__ Please modify the for loop in the following code block. Other things to consider is where to load the PostStudy_TreeEvents spread sheet (in the loop or outside) and where to extracted time elapsed for each subject (in loop or outside). Afterwards, perform the following: \n",
    "\n",
    "1. Load in the PostStudy_TreeEvents. You can refer to __Section 3.3__ in the __2_ecg_advanced_sectionExtraction Notebook__.\n",
    "\n",
    "1. Use your load_ecg function to load/extract/process your ECG. Remember that this part does have an event marker. Use the event_dict in __Section 3.3__ in the __2_ecg_advanced_sectionExtraction Notebook__. Modify it by replacing the duration with 'time_elapsed_since_start_audio' value for the subject of the compassion tree and changing the start_event (the event marker is 'Start second meditation audio').\n",
    "\n",
    "2. Save this dataset as a CSV file in a folder called csv in your data folder. If you need guidance, please refer to __section 4 in the 002_ecg_advanced_sectionExtraction Notebook__. Save these CSVs with the following naming convention: __vrcct_p16_poststudy_tree.csv__. You can use the file_format variable to accomplish this. "
   ]
  },
  {
   "cell_type": "code",
   "execution_count": null,
   "id": "02ac7a23-4fef-481f-b9bd-c9e4dba759e2",
   "metadata": {},
   "outputs": [],
   "source": [
    "# A tip to answer the for loop question: \n",
    "study = studies[1] #poststudy\n",
    "part = parts[-1] #condition\n",
    "\n",
    "#Do we need a nested for loop?\n",
    "for sub in subjects: \n",
    "    for study in studies: \n",
    "        for part in parts[:2]:\n",
    "            None"
   ]
  }
 ],
 "metadata": {
  "kernelspec": {
   "display_name": "Python 3 (ipykernel)",
   "language": "python",
   "name": "python3"
  },
  "language_info": {
   "codemirror_mode": {
    "name": "ipython",
    "version": 3
   },
   "file_extension": ".py",
   "mimetype": "text/x-python",
   "name": "python",
   "nbconvert_exporter": "python",
   "pygments_lexer": "ipython3",
   "version": "3.7.9"
  }
 },
 "nbformat": 4,
 "nbformat_minor": 5
}
